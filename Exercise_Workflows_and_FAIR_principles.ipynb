{
  "nbformat": 4,
  "nbformat_minor": 0,
  "metadata": {
    "colab": {
      "provenance": [],
      "collapsed_sections": [
        "ywct7b-jTBwx"
      ]
    },
    "kernelspec": {
      "name": "python3",
      "display_name": "Python 3"
    },
    "language_info": {
      "name": "python"
    }
  },
  "cells": [
    {
      "cell_type": "markdown",
      "source": [
        "# Contents of this notebook\n",
        "The aim of this notebook is to show my understanding of Workflows and FAIR principles, which was introduced in the first lecture of BERN02.\n",
        "\n",
        "This notebook contains one part of my previous weekly assignment. A part of this assignment is to complete the example code given by the course page.\n",
        "\n",
        "In the notebook it shows the process of solving the shallow water equation, with a fixed wall at the right hand side and an inflow boundary at the left. The result is tested for the Riemann problem with a jump from 2 down to 1.\n",
        "\n",
        "\n",
        "Here is a brief theoretical introduction of the problem.\n",
        "\n"
      ],
      "metadata": {
        "id": "KTrB3yX7CF3C"
      }
    },
    {
      "cell_type": "markdown",
      "source": [
        "## Brief introduction\n",
        "Here in the question the shallow water equation in 1D is in the form $$\\mathbf{u}_t+\\mathbf{f}(\\mathbf{u})_x=\\mathbf{0},$$ with $\\mathbf{u}=(h,hv)^{T}$ and $$\\mathbf{f}(\\mathbf{u})=\n",
        "\\left(\n",
        "  \\begin{array}{c}\n",
        "  hv \\\\\n",
        "  hv^2+\\frac{1}{2}gh^2\n",
        "  \\end{array}\n",
        "  \\right).\n",
        "$$\n",
        "In this fraction of the assignment, the length of the region is 4. $g=1$. More details will be introduced among the code cells."
      ],
      "metadata": {
        "id": "6YGJeh1lsK1W"
      }
    },
    {
      "cell_type": "markdown",
      "source": [
        "## Installation of the packages\n",
        "The requirement of packages are given in the repository (environment.txt)."
      ],
      "metadata": {
        "id": "ywct7b-jTBwx"
      }
    },
    {
      "cell_type": "code",
      "source": [
        "import time\n",
        "import numpy as np\n",
        "from matplotlib import pyplot as plt"
      ],
      "metadata": {
        "id": "4haSKFT9S-KC"
      },
      "execution_count": 1,
      "outputs": []
    },
    {
      "cell_type": "markdown",
      "source": [
        "Then try to install dune:"
      ],
      "metadata": {
        "id": "F5MFPi16VL33"
      }
    },
    {
      "cell_type": "code",
      "source": [
        "!pip install dune-grid"
      ],
      "metadata": {
        "colab": {
          "base_uri": "https://localhost:8080/"
        },
        "id": "DBnktiBsVUS-",
        "outputId": "35e4655b-0794-4c33-9c6f-590d0af4c0d4"
      },
      "execution_count": 2,
      "outputs": [
        {
          "output_type": "stream",
          "name": "stdout",
          "text": [
            "Collecting dune-grid\n",
            "  Downloading dune-grid-2.10.0.tar.gz (3.0 MB)\n",
            "\u001b[2K     \u001b[90m━━━━━━━━━━━━━━━━━━━━━━━━━━━━━━━━━━━━━━━━\u001b[0m \u001b[32m3.0/3.0 MB\u001b[0m \u001b[31m7.2 MB/s\u001b[0m eta \u001b[36m0:00:00\u001b[0m\n",
            "\u001b[?25h  Installing build dependencies ... \u001b[?25l\u001b[?25hdone\n",
            "  Getting requirements to build wheel ... \u001b[?25l\u001b[?25hdone\n",
            "  Preparing metadata (pyproject.toml) ... \u001b[?25l\u001b[?25hdone\n",
            "Collecting dune-geometry<=2.10.0 (from dune-grid)\n",
            "  Using cached dune_geometry-2.10.0-cp312-cp312-linux_x86_64.whl\n",
            "Collecting dune-common<=2.10.0 (from dune-geometry<=2.10.0->dune-grid)\n",
            "  Using cached dune_common-2.10.0-cp312-cp312-linux_x86_64.whl\n",
            "Requirement already satisfied: jinja2 in /usr/local/lib/python3.12/dist-packages (from dune-common<=2.10.0->dune-geometry<=2.10.0->dune-grid) (3.1.6)\n",
            "Requirement already satisfied: numpy in /usr/local/lib/python3.12/dist-packages (from dune-common<=2.10.0->dune-geometry<=2.10.0->dune-grid) (2.0.2)\n",
            "Requirement already satisfied: pip>=21 in /usr/local/lib/python3.12/dist-packages (from dune-common<=2.10.0->dune-geometry<=2.10.0->dune-grid) (24.1.2)\n",
            "Collecting portalocker (from dune-common<=2.10.0->dune-geometry<=2.10.0->dune-grid)\n",
            "  Using cached portalocker-3.2.0-py3-none-any.whl.metadata (8.7 kB)\n",
            "Requirement already satisfied: setuptools>=41 in /usr/local/lib/python3.12/dist-packages (from dune-common<=2.10.0->dune-geometry<=2.10.0->dune-grid) (75.2.0)\n",
            "Requirement already satisfied: wheel in /usr/local/lib/python3.12/dist-packages (from dune-common<=2.10.0->dune-geometry<=2.10.0->dune-grid) (0.45.1)\n",
            "Requirement already satisfied: MarkupSafe>=2.0 in /usr/local/lib/python3.12/dist-packages (from jinja2->dune-common<=2.10.0->dune-geometry<=2.10.0->dune-grid) (3.0.2)\n",
            "Using cached portalocker-3.2.0-py3-none-any.whl (22 kB)\n",
            "Building wheels for collected packages: dune-grid\n",
            "  Building wheel for dune-grid (pyproject.toml) ... \u001b[?25l\u001b[?25hdone\n",
            "  Created wheel for dune-grid: filename=dune_grid-2.10.0-cp312-cp312-linux_x86_64.whl size=1521566 sha256=3ee258a4bfcef976f0b7c1db3db5c03b454da7f8dbc4a9567abd3aa30f13b4ca\n",
            "  Stored in directory: /root/.cache/pip/wheels/17/78/18/5d8a373e38c1030d1b4c6c358e44653f92b09946ecfb12fa88\n",
            "Successfully built dune-grid\n",
            "Installing collected packages: portalocker, dune-common, dune-geometry, dune-grid\n",
            "Successfully installed dune-common-2.10.0 dune-geometry-2.10.0 dune-grid-2.10.0 portalocker-3.2.0\n"
          ]
        }
      ]
    },
    {
      "cell_type": "code",
      "source": [
        "!pip install mpi4py"
      ],
      "metadata": {
        "colab": {
          "base_uri": "https://localhost:8080/"
        },
        "id": "2rzufjYIXRlY",
        "outputId": "aaef1fbc-099f-4594-87e2-91102623fdc6"
      },
      "execution_count": 3,
      "outputs": [
        {
          "output_type": "stream",
          "name": "stdout",
          "text": [
            "Collecting mpi4py\n",
            "  Downloading mpi4py-4.1.0-cp312-cp312-manylinux1_x86_64.manylinux_2_5_x86_64.whl.metadata (16 kB)\n",
            "Downloading mpi4py-4.1.0-cp312-cp312-manylinux1_x86_64.manylinux_2_5_x86_64.whl (1.5 MB)\n",
            "\u001b[2K   \u001b[90m━━━━━━━━━━━━━━━━━━━━━━━━━━━━━━━━━━━━━━━━\u001b[0m \u001b[32m1.5/1.5 MB\u001b[0m \u001b[31m12.3 MB/s\u001b[0m eta \u001b[36m0:00:00\u001b[0m\n",
            "\u001b[?25hInstalling collected packages: mpi4py\n",
            "Successfully installed mpi4py-4.1.0\n"
          ]
        }
      ]
    },
    {
      "cell_type": "markdown",
      "source": [
        "After this we import"
      ],
      "metadata": {
        "id": "xDgsnmptVahp"
      }
    },
    {
      "cell_type": "code",
      "source": [
        "from dune.grid import cartesianDomain, gridFunction, GridFunction, CommOp"
      ],
      "metadata": {
        "id": "1ceCqOdPVcqe"
      },
      "execution_count": 4,
      "outputs": []
    },
    {
      "cell_type": "markdown",
      "source": [
        "Then it is necessary to define some functions. In the beginning is the plot function.\n",
        "## Definitions of needed functions\n",
        "Only 1D is needed for this context. Here the example codes from my course page have been modified for this reason."
      ],
      "metadata": {
        "id": "8L548ws2Xbkl"
      }
    },
    {
      "cell_type": "code",
      "source": [
        "def plot(view, mapper, U):\n",
        "  if view.dimension == 1:\n",
        "    x = np.zeros(shape=(len(mapper)))\n",
        "    h = np.zeros(shape=(len(mapper)))\n",
        "    u = np.zeros(shape=(len(mapper)))\n",
        "\n",
        "    for e in view.elements:\n",
        "      idx = mapper.index(e)\n",
        "      x[idx] = e.geometry.center[0]\n",
        "      h[idx] = U[idx][0]\n",
        "      u[idx] = U[idx][1]/h[idx]\n",
        "    plt.plot(x,h,color='red',label='water height')\n",
        "    plt.plot(x,u,color='blue',label='velocity')\n",
        "    plt.legend()\n",
        "    plt.show()\n",
        "  else:\n",
        "    assert \"dimension not supported\""
      ],
      "metadata": {
        "id": "1y4bme6tYIVK"
      },
      "execution_count": 8,
      "outputs": []
    },
    {
      "cell_type": "markdown",
      "source": [
        "The shallow water function also need to be defined.\n",
        "\n",
        "At the edge of each cell, the local Lax-Friedrich flux is used."
      ],
      "metadata": {
        "id": "pmc9lApha72l"
      }
    },
    {
      "cell_type": "code",
      "source": [
        "def ShallowWater(g = 1., dim = 1 ):\n",
        " dim = dim\n",
        " dimRange = dim+1\n",
        " class Model:\n",
        "  # compute velocity\n",
        "  def velocity(U):\n",
        "    return np.array([U[1]/U[0]])\n",
        " # analytical flux\n",
        "  def F_c(t,x,U):\n",
        " # compute primitive variables\n",
        "    h, v = U[0], Model.velocity(U)\n",
        "    p = 0.5*g*h*h\n",
        " # shallow water analytical flux\n",
        "    flux = np.vstack([ h*v, h * np.outer(v,v) + p * np.eye(dim)])\n",
        "    return flux\n",
        " # return lambda for Lax-Friedrichs\n",
        "  def maxWaveSpeed(t,x,U,n):\n",
        "    h,v = U[0], Model.velocity(U)\n",
        "    return abs(np.dot(v,n)) + np.sqrt(g*h)\n",
        " # numerical flux (Local Lax-Friedrichs), returns flux and dtEstimate\n",
        "  def NumericalF_c(t, x, n, uL, uR ):\n",
        "    flux = Model.F_c(t, x, uL) @ n # F_c(uL) * n\n",
        "    flux += Model.F_c(t, x, uR) @ n # F_c(uR) * n\n",
        "    ws = max(Model.maxWaveSpeed( t, x, uL, n ), Model.maxWaveSpeed( t, x, uR, n ))\n",
        "    diff = uL- uR\n",
        "    flux += ws*diff\n",
        "    flux *= 0.5\n",
        "    return flux,ws\n",
        " return Model"
      ],
      "metadata": {
        "id": "Yh9LB0c-cIIF"
      },
      "execution_count": 10,
      "outputs": []
    },
    {
      "cell_type": "code",
      "source": [
        "def initialize(view, mapper, u0):\n",
        "  U = np.zeros(shape=(len(mapper), view.dimension+1))\n",
        "  #assign cell values by evaluation the given function at the cell center\n",
        "  for e in view.elements:\n",
        "    U[mapper.index(e)]=u0(e.geometry.center)\n",
        "  return U"
      ],
      "metadata": {
        "id": "6XJc-mpCgfZa"
      },
      "execution_count": 14,
      "outputs": []
    },
    {
      "cell_type": "markdown",
      "source": [
        "Time evolving, according to the requirement, is realized by \"using the explicit Euler method with constant mesh width $\\Delta t$ in time\". The boundary condition is also included in this function. As the assignment said, on the LHS there is always an input. On the RHS there is a \"fixed wall\", which means the velocity goes backward instantly with the same strength."
      ],
      "metadata": {
        "id": "yk2ZnsmrdPVb"
      }
    },
    {
      "cell_type": "code",
      "source": [
        "def evolve(t, model, view, mapper, U): # time move on\n",
        "    from dune.grid import PartitionType\n",
        "    # create update vector\n",
        "    upd = np.zeros(shape=U.shape)\n",
        "\n",
        "    # initialize dt with something big\n",
        "    dt = 1e100\n",
        "\n",
        "    # iterate over all cells\n",
        "    for cell in view.elements:\n",
        "\n",
        "        volume = cell.geometry.volume\n",
        "        idxInside = mapper.index( cell )\n",
        "        sumfactor = 0.0\n",
        "\n",
        "        # loop of all intersections (points in 1d, edges in 2d, faces in 3d)\n",
        "        for isec in view.intersections( cell ):\n",
        "            volfactor = isec.geometry.volume / volume\n",
        "            xLocal    = isec.geometry.center\n",
        "            unitOuterNormal = isec.centerUnitOuterNormal\n",
        "\n",
        "            # if neighboring element is available\n",
        "            if isec.outside is not None:\n",
        "                idxOutside = mapper.index(isec.outside)\n",
        "                # one sided flux evaluation\n",
        "                if idxInside < idxOutside:\n",
        "                    # compute numerical flux, wave speed\n",
        "                    flux,ws = model.NumericalF_c(t, xLocal, unitOuterNormal, U[idxInside], U[idxOutside] )\n",
        "\n",
        "                    flux *= volfactor\n",
        "                    sumfactor += ws*volfactor\n",
        "\n",
        "                    # use conservation property\n",
        "                    upd[idxInside]  -= flux\n",
        "                    upd[idxOutside] += flux\n",
        "\n",
        "            # if domain boundary\n",
        "            elif isec.boundary:\n",
        "                x = xLocal[0]\n",
        "                n = unitOuterNormal\n",
        "\n",
        "                if abs(x-0.0)<1e-10 and n[0]<0:\n",
        "                    h_in, v_in = 2.0,2.0 # which can be also changed into time dependent BC\n",
        "                    uR = np.array([h_in, h_in*v_in])\n",
        "                    #CREATE uR for the function to compute\n",
        "                    #numerical flux\n",
        "                elif abs(x-4.0)<1e-10 and n[0]>0:\n",
        "                    h, hv = U[idxInside]\n",
        "                    uR = np.array([h, -hv]) # inversed velocity dir\n",
        "                    # fixed wall, wave hit back\n",
        "\n",
        "                flux,ws = model.NumericalF_c(t, xLocal, unitOuterNormal, U[idxInside],  uR)\n",
        "                # This is to create a ghost RHS\n",
        "                # By default example RHS is set as a same value as the inside\n",
        "                flux *= volfactor\n",
        "\n",
        "                upd[idxInside] -= flux\n",
        "                sumfactor += ws*volfactor\n",
        "\n",
        "        if sumfactor > 0:\n",
        "            dt = min(dt, 1.0 / sumfactor)\n",
        "\n",
        "    # for parallel runs synchronize upd vector on ghost cells\n",
        "    mapper.communicate(view.interiorBorderPartition, view.allPartition, CommOp.set, upd)\n",
        "\n",
        "    # synchronize dt over all processes\n",
        "    dt = view.comm.min( dt )\n",
        "\n",
        "    # Explicit Euler time stepping\n",
        "    U += dt*upd\n",
        "\n",
        "    return dt"
      ],
      "metadata": {
        "id": "LaZ_lY9TgcXi"
      },
      "execution_count": 11,
      "outputs": []
    },
    {
      "cell_type": "markdown",
      "source": [
        "After these preparation we can do the computing, in this function the plot is automatically called. We can therefore see the result right after computation."
      ],
      "metadata": {
        "id": "rreJZsj9h4Td"
      }
    },
    {
      "cell_type": "code",
      "source": [
        "def compute(view, name):\n",
        "    from dune.common import FieldVector\n",
        "    @gridFunction(view)\n",
        "    def u0(x): # is is a FieldVector\n",
        "       #inside = (x*x) < 0.25 #sample\n",
        "       #return  [1.0 if inside else 0.5] + [ 0 for d in range(view.dimension)] #sample\n",
        "       h = 2.0 if x[0]<2.0 else 1.0\n",
        "       v = 2.0 if x[0]<2.0 else 1.0#[0] is to evade error by\n",
        "       #vector<int\n",
        "       return [h, h*v]\n",
        "\n",
        "\n",
        "    # create shallow water model\n",
        "    model = ShallowWater(g=1., dim=view.dimension)\n",
        "\n",
        "    # create a mapper to assign indices to elements\n",
        "    # in order to attach data to grid cells\n",
        "    mapper = view.mapper(lambda gt: gt.dim == view.dimension)\n",
        "\n",
        "    # initialize solution with initial data\n",
        "    U = initialize(view, mapper, u0)\n",
        "\n",
        "    t = 0.0\n",
        "    T = 0.5\n",
        "    savestep = 0.01\n",
        "    savetime = savestep\n",
        "\n",
        "    start = time.time()\n",
        "    while t < T:\n",
        "        # evolve to next time step\n",
        "        dt = evolve(t, model, view, mapper, U)\n",
        "        t += dt\n",
        "        if t > savetime:\n",
        "            if view.comm.rank == 0:\n",
        "                print(f\"Time = {t}, dt = {dt}\")\n",
        "            savetime += savestep\n",
        "\n",
        "    # plot solution\n",
        "    plot(view, mapper, U)\n",
        "\n",
        "    end = time.time()\n",
        "    print(\"time used (Python):\", end-start)\n",
        "    print(f\"[FINISHED] Final time T = {t:.5f}\")"
      ],
      "metadata": {
        "id": "BdmM0Gvol6x6"
      },
      "execution_count": 12,
      "outputs": []
    },
    {
      "cell_type": "markdown",
      "source": [
        "## Results of the code\n",
        "In this section the code to activate computing, and also, the corresponding result, are shown.\n"
      ],
      "metadata": {
        "id": "ad59yE-nmLCm"
      }
    },
    {
      "cell_type": "code",
      "source": [
        "if __name__ == '__main__':\n",
        "\n",
        "    name = \"sw_yasp2d\"\n",
        "\n",
        "    dim = 1\n",
        "\n",
        "    from dune.grid import yaspGrid as hierarchicGrid\n",
        "    #from dune.alugrid import aluCubeGrid as hierarchicGrid\n",
        "    domain = cartesianDomain([0]*dim, [4]*dim, [160]*dim)\n",
        "    view = hierarchicGrid(domain)\n",
        "    compute(view,name)"
      ],
      "metadata": {
        "colab": {
          "base_uri": "https://localhost:8080/",
          "height": 1000
        },
        "id": "PLXkmk3Qms4d",
        "outputId": "24cf0c46-d5ad-42d3-df98-f00c8b6b6ed2"
      },
      "execution_count": 15,
      "outputs": [
        {
          "output_type": "stream",
          "name": "stdout",
          "text": [
            "Time = 0.010983495705504467, dt = 0.003661165235168156\n",
            "Time = 0.021966991411008937, dt = 0.003661165235168156\n",
            "Time = 0.032950487116513404, dt = 0.003661165235168156\n",
            "Time = 0.04027281758684972, dt = 0.003661165235168156\n",
            "Time = 0.05125631329235419, dt = 0.003661165235168156\n",
            "Time = 0.06223980899785866, dt = 0.003661165235168156\n",
            "Time = 0.07322330470336312, dt = 0.003661165235168156\n",
            "Time = 0.08054563517369943, dt = 0.003661165235168156\n",
            "Time = 0.0915291308792039, dt = 0.003661165235168156\n",
            "Time = 0.10251262658470837, dt = 0.003661165235168156\n",
            "Time = 0.11349612229021284, dt = 0.003661165235168156\n",
            "Time = 0.12081845276054916, dt = 0.003661165235168156\n",
            "Time = 0.13180194846605361, dt = 0.003661165235168156\n",
            "Time = 0.14278544417155808, dt = 0.003661165235168156\n",
            "Time = 0.1501077746418944, dt = 0.003661165235168156\n",
            "Time = 0.16109127034739887, dt = 0.003661165235168156\n",
            "Time = 0.17207476605290334, dt = 0.003661165235168156\n",
            "Time = 0.1830582617584078, dt = 0.003661165235168156\n",
            "Time = 0.19038059222874412, dt = 0.003661165235168156\n",
            "Time = 0.2013640879342486, dt = 0.003661165235168156\n",
            "Time = 0.21234758363975306, dt = 0.003661165235168156\n",
            "Time = 0.22333107934525753, dt = 0.003661165235168156\n",
            "Time = 0.23065340981559385, dt = 0.003661165235168156\n",
            "Time = 0.24163690552109832, dt = 0.003661165235168156\n",
            "Time = 0.2526204012266028, dt = 0.003661165235168156\n",
            "Time = 0.2636038969321072, dt = 0.003661165235168156\n",
            "Time = 0.27092622740244343, dt = 0.003661165235168156\n",
            "Time = 0.2819097231079478, dt = 0.003661165235168156\n",
            "Time = 0.2928932188134522, dt = 0.003661165235168156\n",
            "Time = 0.30021554928378846, dt = 0.003661165235168156\n",
            "Time = 0.31119904498929285, dt = 0.003661165235168156\n",
            "Time = 0.32218254069479724, dt = 0.003661165235168156\n",
            "Time = 0.3331660364003016, dt = 0.003661165235168156\n",
            "Time = 0.3404883668706379, dt = 0.003661165235168156\n",
            "Time = 0.35147186257614227, dt = 0.003661165235168156\n",
            "Time = 0.36245535828164666, dt = 0.003661165235168156\n",
            "Time = 0.37343885398715104, dt = 0.003661165235168156\n",
            "Time = 0.3807611844574873, dt = 0.003661165235168156\n",
            "Time = 0.3917446801629917, dt = 0.003661165235168156\n",
            "Time = 0.4027281758684961, dt = 0.003661165235168156\n",
            "Time = 0.41005050633883233, dt = 0.003661165235168156\n",
            "Time = 0.4210340020443367, dt = 0.003661165235168156\n",
            "Time = 0.4320174977498411, dt = 0.003661165235168156\n",
            "Time = 0.4430009934553455, dt = 0.003661165235168156\n",
            "Time = 0.45032332392568175, dt = 0.003661165235168156\n",
            "Time = 0.46130681963118614, dt = 0.003661165235168156\n",
            "Time = 0.4722903153366905, dt = 0.003661165235168156\n",
            "Time = 0.4832738110421949, dt = 0.003661165235168156\n",
            "Time = 0.49059614151253117, dt = 0.003661165235168156\n",
            "Time = 0.5015796372180356, dt = 0.003661165235168156\n"
          ]
        },
        {
          "output_type": "display_data",
          "data": {
            "text/plain": [
              "<Figure size 640x480 with 1 Axes>"
            ],
            "image/png": "[encoded data removed]"
          },
          "metadata": {}
        },
        {
          "output_type": "stream",
          "name": "stdout",
          "text": [
            "time used (Python): 3.4405975341796875\n",
            "[FINISHED] Final time T = 0.50158\n"
          ]
        }
      ]
    },
    {
      "cell_type": "markdown",
      "source": [
        "In the image it shows the result at the time when our time evolving **just past** T, which is $T=0.5$ in this example. The figure above is actually the numerical solution at $T=0.50158$.\n",
        "\n",
        "By changing the parameter T at the function compute, for example from $T=0.1$ to $T=0.9$, we can generate a series of plots which shows the solution of the given problem as the time evolving. ![Snipaste_2025-09-03_01-00-55.png](data:image/png;base64,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). It looks like this figure, which comes from my report on that week."
      ],
      "metadata": {
        "id": "o8xq82-bnaqR"
      }
    },
    {
      "cell_type": "markdown",
      "source": [
        "# How this workflow relates to FAIR data principles?\n",
        "The main topic of this notebook, again, is to discuss how to make the workflow relates to FAIR data principles. I want to share my idea here at this section.\n",
        "\n",
        "\n"
      ],
      "metadata": {
        "id": "YU0e5DkenaGK"
      }
    },
    {
      "cell_type": "markdown",
      "source": [
        "## Findable\n",
        "GitHub is a common platform where creators can store and share their work. Every user can search for this repository. By setting keywords, link the releases to certain papers, or/and link to author's DOI, it is possible to make the contents easier to be found.\n",
        "\n",
        "However, this example here is only a part of my assignment last semester. So sadly there are no specific published paper I want to link to.\n",
        "\n",
        "\n"
      ],
      "metadata": {
        "id": "YIa-gAc2sUXe"
      }
    },
    {
      "cell_type": "markdown",
      "source": [
        "## Accessible\n",
        "By setting the GitHub page public, the workflow should be technically accessible to readers. This is a famous and open, free platform to use. However, they might meet problems with making use of it since there might be risk using the contents without authorizing.\n",
        "\n",
        "To solve this problem, a license should be assigned whenever the creator wants to share the contents. In this exercise CC0-1.0 license is chosen.\n",
        "\n",
        "However, to do a sharing of a real serious workflow to all possible users, I need to get fully understanding of all possible licenses before I choose a specific license and publish my contents.\n",
        "\n"
      ],
      "metadata": {
        "id": "wbHVwFqIJv4D"
      }
    },
    {
      "cell_type": "markdown",
      "source": [
        "## Interoperable\n",
        "The Jupyter notebook is a useful interoperable media to share contents for me. It provides another dimension of explaining codes besides comments. Also, Python is used in this project, which is a commonly used language that easy to read for human and machine. After making the workflow easier to read (by both  human and machine), the contents are more interoperable.\n",
        "\n",
        "This project here has no data to be processed. However, to make the workflow interoperable, I should make sure that all datas should be stored in a more machine-friendly form, e.g. JSON or CSV, in the case that I am dealing with a project with data processing.\n"
      ],
      "metadata": {
        "id": "bmt_m9RrJw-0"
      }
    },
    {
      "cell_type": "markdown",
      "source": [
        "## Reusable\n",
        "\n",
        "First of all, to make it easier to be reused, a usage license should be properly chosen and clearly mentioned. Otherwise, the problem I mentioned in the Accessible part would happen.\n",
        "\n",
        "The environment requirement is mentioned in the GitHub repository page, which makes users know which version of packages were used when I finished the work. This makes the re-implementation possible."
      ],
      "metadata": {
        "id": "TlFrYC-FMBcX"
      }
    },
    {
      "cell_type": "markdown",
      "source": [
        "# GitHub repository address\n",
        "https://github.com/LW1308/Exercise-Workflows-and-FAIR-principles"
      ],
      "metadata": {
        "id": "WV8QmkI-Obs3"
      }
    }
  ]
}